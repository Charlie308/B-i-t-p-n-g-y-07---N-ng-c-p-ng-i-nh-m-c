{
 "cells": [
  {
   "cell_type": "code",
   "execution_count": null,
   "id": "f547e139",
   "metadata": {},
   "outputs": [],
   "source": [
    "Bài tập 1 - Ứng dụng chuyển đổi tiền tệ"
   ]
  },
  {
   "cell_type": "code",
   "execution_count": 1,
   "id": "0c895766",
   "metadata": {},
   "outputs": [
    {
     "name": "stdout",
     "output_type": "stream",
     "text": [
      "Nhập số tiền USD: 23\n",
      "USD = 23700 VNĐ\n"
     ]
    }
   ],
   "source": [
    "import math\n",
    "USD = input(\"Nhập số tiền USD: \")\n",
    "ti_gia = 23700\n",
    "print(\"USD =\",ti_gia,\"VNĐ\")\n"
   ]
  }
 ],
 "metadata": {
  "kernelspec": {
   "display_name": "Python 3 (ipykernel)",
   "language": "python",
   "name": "python3"
  },
  "language_info": {
   "codemirror_mode": {
    "name": "ipython",
    "version": 3
   },
   "file_extension": ".py",
   "mimetype": "text/x-python",
   "name": "python",
   "nbconvert_exporter": "python",
   "pygments_lexer": "ipython3",
   "version": "3.10.6"
  }
 },
 "nbformat": 4,
 "nbformat_minor": 5
}
